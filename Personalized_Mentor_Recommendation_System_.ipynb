{
  "nbformat": 4,
  "nbformat_minor": 0,
  "metadata": {
    "colab": {
      "provenance": [],
      "mount_file_id": "1NvWn4FmoPV63rqORRd28qvxoMOdPahMh",
      "authorship_tag": "ABX9TyPhg4HqwM83Y8crNxbYbksp",
      "include_colab_link": true
    },
    "kernelspec": {
      "name": "python3",
      "display_name": "Python 3"
    },
    "language_info": {
      "name": "python"
    }
  },
  "cells": [
    {
      "cell_type": "markdown",
      "metadata": {
        "id": "view-in-github",
        "colab_type": "text"
      },
      "source": [
        "<a href=\"https://colab.research.google.com/github/JisnaP/Agentic_AI_Powered_Chatbot_for_Queries_Related_to_CLAT_2025/blob/main/Personalized_Mentor_Recommendation_System_.ipynb\" target=\"_parent\"><img src=\"https://colab.research.google.com/assets/colab-badge.svg\" alt=\"Open In Colab\"/></a>"
      ]
    },
    {
      "cell_type": "code",
      "execution_count": null,
      "metadata": {
        "id": "5Vt6tHFPb0Qr"
      },
      "outputs": [],
      "source": [
        "import pandas as pd\n",
        "import numpy as np\n",
        "from sklearn.metrics.pairwise import cosine_similarity\n",
        "from sklearn.preprocessing import OneHotEncoder"
      ]
    },
    {
      "cell_type": "code",
      "source": [
        "mentor_data = [\n",
        "    {\"MentorID\": \"M1\", \"Subjects\": \"Mathematics, English\", \"College\": \"Delhi University\", \"Preparation_Level\": \"Advanced\", \"Learning_Style\": \"Visual\"},\n",
        "    {\"MentorID\": \"M2\", \"Subjects\": \"History, Political Science\", \"College\": \"IIT Delhi\", \"Preparation_Level\": \"Intermediate\", \"Learning_Style\": \"Auditory\"},\n",
        "    {\"MentorID\": \"M3\", \"Subjects\": \"Mathematics, Logic\", \"College\": \"DU\", \"Preparation_Level\": \"Advanced\", \"Learning_Style\": \"Kinesthetic\"},\n",
        "    {\"MentorID\": \"M4\", \"Subjects\": \"English, Reasoning\", \"College\": \"St. Stephen's\", \"Preparation_Level\": \"Beginner\", \"Learning_Style\": \"Visual\"},\n",
        "    {\"MentorID\": \"M5\", \"Subjects\": \"English, Mathematics\", \"College\": \"Delhi University\", \"Preparation_Level\": \"Advanced\", \"Learning_Style\": \"Auditory\"}\n",
        "]\n",
        "\n",
        "mentors_df = pd.DataFrame(mentor_data)"
      ],
      "metadata": {
        "id": "Ty7thH0ab9HP"
      },
      "execution_count": null,
      "outputs": []
    },
    {
      "cell_type": "code",
      "source": [
        "mentors_df"
      ],
      "metadata": {
        "colab": {
          "base_uri": "https://localhost:8080/",
          "height": 206
        },
        "id": "Eqk8JEC6cIFz",
        "outputId": "c4d964b2-2a68-4cb0-f2aa-d99e9aa6ac09"
      },
      "execution_count": null,
      "outputs": [
        {
          "output_type": "execute_result",
          "data": {
            "text/plain": [
              "  MentorID                    Subjects           College Preparation_Level  \\\n",
              "0       M1        Mathematics, English  Delhi University          Advanced   \n",
              "1       M2  History, Political Science         IIT Delhi      Intermediate   \n",
              "2       M3          Mathematics, Logic                DU          Advanced   \n",
              "3       M4          English, Reasoning     St. Stephen's          Beginner   \n",
              "4       M5        English, Mathematics  Delhi University          Advanced   \n",
              "\n",
              "  Learning_Style  \n",
              "0         Visual  \n",
              "1       Auditory  \n",
              "2    Kinesthetic  \n",
              "3         Visual  \n",
              "4       Auditory  "
            ],
            "text/html": [
              "\n",
              "  <div id=\"df-600442c4-1578-45f5-b9ac-387d9af5bbed\" class=\"colab-df-container\">\n",
              "    <div>\n",
              "<style scoped>\n",
              "    .dataframe tbody tr th:only-of-type {\n",
              "        vertical-align: middle;\n",
              "    }\n",
              "\n",
              "    .dataframe tbody tr th {\n",
              "        vertical-align: top;\n",
              "    }\n",
              "\n",
              "    .dataframe thead th {\n",
              "        text-align: right;\n",
              "    }\n",
              "</style>\n",
              "<table border=\"1\" class=\"dataframe\">\n",
              "  <thead>\n",
              "    <tr style=\"text-align: right;\">\n",
              "      <th></th>\n",
              "      <th>MentorID</th>\n",
              "      <th>Subjects</th>\n",
              "      <th>College</th>\n",
              "      <th>Preparation_Level</th>\n",
              "      <th>Learning_Style</th>\n",
              "    </tr>\n",
              "  </thead>\n",
              "  <tbody>\n",
              "    <tr>\n",
              "      <th>0</th>\n",
              "      <td>M1</td>\n",
              "      <td>Mathematics, English</td>\n",
              "      <td>Delhi University</td>\n",
              "      <td>Advanced</td>\n",
              "      <td>Visual</td>\n",
              "    </tr>\n",
              "    <tr>\n",
              "      <th>1</th>\n",
              "      <td>M2</td>\n",
              "      <td>History, Political Science</td>\n",
              "      <td>IIT Delhi</td>\n",
              "      <td>Intermediate</td>\n",
              "      <td>Auditory</td>\n",
              "    </tr>\n",
              "    <tr>\n",
              "      <th>2</th>\n",
              "      <td>M3</td>\n",
              "      <td>Mathematics, Logic</td>\n",
              "      <td>DU</td>\n",
              "      <td>Advanced</td>\n",
              "      <td>Kinesthetic</td>\n",
              "    </tr>\n",
              "    <tr>\n",
              "      <th>3</th>\n",
              "      <td>M4</td>\n",
              "      <td>English, Reasoning</td>\n",
              "      <td>St. Stephen's</td>\n",
              "      <td>Beginner</td>\n",
              "      <td>Visual</td>\n",
              "    </tr>\n",
              "    <tr>\n",
              "      <th>4</th>\n",
              "      <td>M5</td>\n",
              "      <td>English, Mathematics</td>\n",
              "      <td>Delhi University</td>\n",
              "      <td>Advanced</td>\n",
              "      <td>Auditory</td>\n",
              "    </tr>\n",
              "  </tbody>\n",
              "</table>\n",
              "</div>\n",
              "    <div class=\"colab-df-buttons\">\n",
              "\n",
              "  <div class=\"colab-df-container\">\n",
              "    <button class=\"colab-df-convert\" onclick=\"convertToInteractive('df-600442c4-1578-45f5-b9ac-387d9af5bbed')\"\n",
              "            title=\"Convert this dataframe to an interactive table.\"\n",
              "            style=\"display:none;\">\n",
              "\n",
              "  <svg xmlns=\"http://www.w3.org/2000/svg\" height=\"24px\" viewBox=\"0 -960 960 960\">\n",
              "    <path d=\"M120-120v-720h720v720H120Zm60-500h600v-160H180v160Zm220 220h160v-160H400v160Zm0 220h160v-160H400v160ZM180-400h160v-160H180v160Zm440 0h160v-160H620v160ZM180-180h160v-160H180v160Zm440 0h160v-160H620v160Z\"/>\n",
              "  </svg>\n",
              "    </button>\n",
              "\n",
              "  <style>\n",
              "    .colab-df-container {\n",
              "      display:flex;\n",
              "      gap: 12px;\n",
              "    }\n",
              "\n",
              "    .colab-df-convert {\n",
              "      background-color: #E8F0FE;\n",
              "      border: none;\n",
              "      border-radius: 50%;\n",
              "      cursor: pointer;\n",
              "      display: none;\n",
              "      fill: #1967D2;\n",
              "      height: 32px;\n",
              "      padding: 0 0 0 0;\n",
              "      width: 32px;\n",
              "    }\n",
              "\n",
              "    .colab-df-convert:hover {\n",
              "      background-color: #E2EBFA;\n",
              "      box-shadow: 0px 1px 2px rgba(60, 64, 67, 0.3), 0px 1px 3px 1px rgba(60, 64, 67, 0.15);\n",
              "      fill: #174EA6;\n",
              "    }\n",
              "\n",
              "    .colab-df-buttons div {\n",
              "      margin-bottom: 4px;\n",
              "    }\n",
              "\n",
              "    [theme=dark] .colab-df-convert {\n",
              "      background-color: #3B4455;\n",
              "      fill: #D2E3FC;\n",
              "    }\n",
              "\n",
              "    [theme=dark] .colab-df-convert:hover {\n",
              "      background-color: #434B5C;\n",
              "      box-shadow: 0px 1px 3px 1px rgba(0, 0, 0, 0.15);\n",
              "      filter: drop-shadow(0px 1px 2px rgba(0, 0, 0, 0.3));\n",
              "      fill: #FFFFFF;\n",
              "    }\n",
              "  </style>\n",
              "\n",
              "    <script>\n",
              "      const buttonEl =\n",
              "        document.querySelector('#df-600442c4-1578-45f5-b9ac-387d9af5bbed button.colab-df-convert');\n",
              "      buttonEl.style.display =\n",
              "        google.colab.kernel.accessAllowed ? 'block' : 'none';\n",
              "\n",
              "      async function convertToInteractive(key) {\n",
              "        const element = document.querySelector('#df-600442c4-1578-45f5-b9ac-387d9af5bbed');\n",
              "        const dataTable =\n",
              "          await google.colab.kernel.invokeFunction('convertToInteractive',\n",
              "                                                    [key], {});\n",
              "        if (!dataTable) return;\n",
              "\n",
              "        const docLinkHtml = 'Like what you see? Visit the ' +\n",
              "          '<a target=\"_blank\" href=https://colab.research.google.com/notebooks/data_table.ipynb>data table notebook</a>'\n",
              "          + ' to learn more about interactive tables.';\n",
              "        element.innerHTML = '';\n",
              "        dataTable['output_type'] = 'display_data';\n",
              "        await google.colab.output.renderOutput(dataTable, element);\n",
              "        const docLink = document.createElement('div');\n",
              "        docLink.innerHTML = docLinkHtml;\n",
              "        element.appendChild(docLink);\n",
              "      }\n",
              "    </script>\n",
              "  </div>\n",
              "\n",
              "\n",
              "<div id=\"df-9e2e4378-753b-4007-8c7c-3302e6b94f43\">\n",
              "  <button class=\"colab-df-quickchart\" onclick=\"quickchart('df-9e2e4378-753b-4007-8c7c-3302e6b94f43')\"\n",
              "            title=\"Suggest charts\"\n",
              "            style=\"display:none;\">\n",
              "\n",
              "<svg xmlns=\"http://www.w3.org/2000/svg\" height=\"24px\"viewBox=\"0 0 24 24\"\n",
              "     width=\"24px\">\n",
              "    <g>\n",
              "        <path d=\"M19 3H5c-1.1 0-2 .9-2 2v14c0 1.1.9 2 2 2h14c1.1 0 2-.9 2-2V5c0-1.1-.9-2-2-2zM9 17H7v-7h2v7zm4 0h-2V7h2v10zm4 0h-2v-4h2v4z\"/>\n",
              "    </g>\n",
              "</svg>\n",
              "  </button>\n",
              "\n",
              "<style>\n",
              "  .colab-df-quickchart {\n",
              "      --bg-color: #E8F0FE;\n",
              "      --fill-color: #1967D2;\n",
              "      --hover-bg-color: #E2EBFA;\n",
              "      --hover-fill-color: #174EA6;\n",
              "      --disabled-fill-color: #AAA;\n",
              "      --disabled-bg-color: #DDD;\n",
              "  }\n",
              "\n",
              "  [theme=dark] .colab-df-quickchart {\n",
              "      --bg-color: #3B4455;\n",
              "      --fill-color: #D2E3FC;\n",
              "      --hover-bg-color: #434B5C;\n",
              "      --hover-fill-color: #FFFFFF;\n",
              "      --disabled-bg-color: #3B4455;\n",
              "      --disabled-fill-color: #666;\n",
              "  }\n",
              "\n",
              "  .colab-df-quickchart {\n",
              "    background-color: var(--bg-color);\n",
              "    border: none;\n",
              "    border-radius: 50%;\n",
              "    cursor: pointer;\n",
              "    display: none;\n",
              "    fill: var(--fill-color);\n",
              "    height: 32px;\n",
              "    padding: 0;\n",
              "    width: 32px;\n",
              "  }\n",
              "\n",
              "  .colab-df-quickchart:hover {\n",
              "    background-color: var(--hover-bg-color);\n",
              "    box-shadow: 0 1px 2px rgba(60, 64, 67, 0.3), 0 1px 3px 1px rgba(60, 64, 67, 0.15);\n",
              "    fill: var(--button-hover-fill-color);\n",
              "  }\n",
              "\n",
              "  .colab-df-quickchart-complete:disabled,\n",
              "  .colab-df-quickchart-complete:disabled:hover {\n",
              "    background-color: var(--disabled-bg-color);\n",
              "    fill: var(--disabled-fill-color);\n",
              "    box-shadow: none;\n",
              "  }\n",
              "\n",
              "  .colab-df-spinner {\n",
              "    border: 2px solid var(--fill-color);\n",
              "    border-color: transparent;\n",
              "    border-bottom-color: var(--fill-color);\n",
              "    animation:\n",
              "      spin 1s steps(1) infinite;\n",
              "  }\n",
              "\n",
              "  @keyframes spin {\n",
              "    0% {\n",
              "      border-color: transparent;\n",
              "      border-bottom-color: var(--fill-color);\n",
              "      border-left-color: var(--fill-color);\n",
              "    }\n",
              "    20% {\n",
              "      border-color: transparent;\n",
              "      border-left-color: var(--fill-color);\n",
              "      border-top-color: var(--fill-color);\n",
              "    }\n",
              "    30% {\n",
              "      border-color: transparent;\n",
              "      border-left-color: var(--fill-color);\n",
              "      border-top-color: var(--fill-color);\n",
              "      border-right-color: var(--fill-color);\n",
              "    }\n",
              "    40% {\n",
              "      border-color: transparent;\n",
              "      border-right-color: var(--fill-color);\n",
              "      border-top-color: var(--fill-color);\n",
              "    }\n",
              "    60% {\n",
              "      border-color: transparent;\n",
              "      border-right-color: var(--fill-color);\n",
              "    }\n",
              "    80% {\n",
              "      border-color: transparent;\n",
              "      border-right-color: var(--fill-color);\n",
              "      border-bottom-color: var(--fill-color);\n",
              "    }\n",
              "    90% {\n",
              "      border-color: transparent;\n",
              "      border-bottom-color: var(--fill-color);\n",
              "    }\n",
              "  }\n",
              "</style>\n",
              "\n",
              "  <script>\n",
              "    async function quickchart(key) {\n",
              "      const quickchartButtonEl =\n",
              "        document.querySelector('#' + key + ' button');\n",
              "      quickchartButtonEl.disabled = true;  // To prevent multiple clicks.\n",
              "      quickchartButtonEl.classList.add('colab-df-spinner');\n",
              "      try {\n",
              "        const charts = await google.colab.kernel.invokeFunction(\n",
              "            'suggestCharts', [key], {});\n",
              "      } catch (error) {\n",
              "        console.error('Error during call to suggestCharts:', error);\n",
              "      }\n",
              "      quickchartButtonEl.classList.remove('colab-df-spinner');\n",
              "      quickchartButtonEl.classList.add('colab-df-quickchart-complete');\n",
              "    }\n",
              "    (() => {\n",
              "      let quickchartButtonEl =\n",
              "        document.querySelector('#df-9e2e4378-753b-4007-8c7c-3302e6b94f43 button');\n",
              "      quickchartButtonEl.style.display =\n",
              "        google.colab.kernel.accessAllowed ? 'block' : 'none';\n",
              "    })();\n",
              "  </script>\n",
              "</div>\n",
              "\n",
              "  <div id=\"id_471213ff-90cc-41d9-94ed-3f421b30ef6f\">\n",
              "    <style>\n",
              "      .colab-df-generate {\n",
              "        background-color: #E8F0FE;\n",
              "        border: none;\n",
              "        border-radius: 50%;\n",
              "        cursor: pointer;\n",
              "        display: none;\n",
              "        fill: #1967D2;\n",
              "        height: 32px;\n",
              "        padding: 0 0 0 0;\n",
              "        width: 32px;\n",
              "      }\n",
              "\n",
              "      .colab-df-generate:hover {\n",
              "        background-color: #E2EBFA;\n",
              "        box-shadow: 0px 1px 2px rgba(60, 64, 67, 0.3), 0px 1px 3px 1px rgba(60, 64, 67, 0.15);\n",
              "        fill: #174EA6;\n",
              "      }\n",
              "\n",
              "      [theme=dark] .colab-df-generate {\n",
              "        background-color: #3B4455;\n",
              "        fill: #D2E3FC;\n",
              "      }\n",
              "\n",
              "      [theme=dark] .colab-df-generate:hover {\n",
              "        background-color: #434B5C;\n",
              "        box-shadow: 0px 1px 3px 1px rgba(0, 0, 0, 0.15);\n",
              "        filter: drop-shadow(0px 1px 2px rgba(0, 0, 0, 0.3));\n",
              "        fill: #FFFFFF;\n",
              "      }\n",
              "    </style>\n",
              "    <button class=\"colab-df-generate\" onclick=\"generateWithVariable('mentors_df')\"\n",
              "            title=\"Generate code using this dataframe.\"\n",
              "            style=\"display:none;\">\n",
              "\n",
              "  <svg xmlns=\"http://www.w3.org/2000/svg\" height=\"24px\"viewBox=\"0 0 24 24\"\n",
              "       width=\"24px\">\n",
              "    <path d=\"M7,19H8.4L18.45,9,17,7.55,7,17.6ZM5,21V16.75L18.45,3.32a2,2,0,0,1,2.83,0l1.4,1.43a1.91,1.91,0,0,1,.58,1.4,1.91,1.91,0,0,1-.58,1.4L9.25,21ZM18.45,9,17,7.55Zm-12,3A5.31,5.31,0,0,0,4.9,8.1,5.31,5.31,0,0,0,1,6.5,5.31,5.31,0,0,0,4.9,4.9,5.31,5.31,0,0,0,6.5,1,5.31,5.31,0,0,0,8.1,4.9,5.31,5.31,0,0,0,12,6.5,5.46,5.46,0,0,0,6.5,12Z\"/>\n",
              "  </svg>\n",
              "    </button>\n",
              "    <script>\n",
              "      (() => {\n",
              "      const buttonEl =\n",
              "        document.querySelector('#id_471213ff-90cc-41d9-94ed-3f421b30ef6f button.colab-df-generate');\n",
              "      buttonEl.style.display =\n",
              "        google.colab.kernel.accessAllowed ? 'block' : 'none';\n",
              "\n",
              "      buttonEl.onclick = () => {\n",
              "        google.colab.notebook.generateWithVariable('mentors_df');\n",
              "      }\n",
              "      })();\n",
              "    </script>\n",
              "  </div>\n",
              "\n",
              "    </div>\n",
              "  </div>\n"
            ],
            "application/vnd.google.colaboratory.intrinsic+json": {
              "type": "dataframe",
              "variable_name": "mentors_df",
              "summary": "{\n  \"name\": \"mentors_df\",\n  \"rows\": 5,\n  \"fields\": [\n    {\n      \"column\": \"MentorID\",\n      \"properties\": {\n        \"dtype\": \"string\",\n        \"num_unique_values\": 5,\n        \"samples\": [\n          \"M2\",\n          \"M5\",\n          \"M3\"\n        ],\n        \"semantic_type\": \"\",\n        \"description\": \"\"\n      }\n    },\n    {\n      \"column\": \"Subjects\",\n      \"properties\": {\n        \"dtype\": \"string\",\n        \"num_unique_values\": 5,\n        \"samples\": [\n          \"History, Political Science\",\n          \"English, Mathematics\",\n          \"Mathematics, Logic\"\n        ],\n        \"semantic_type\": \"\",\n        \"description\": \"\"\n      }\n    },\n    {\n      \"column\": \"College\",\n      \"properties\": {\n        \"dtype\": \"string\",\n        \"num_unique_values\": 4,\n        \"samples\": [\n          \"IIT Delhi\",\n          \"St. Stephen's\",\n          \"Delhi University\"\n        ],\n        \"semantic_type\": \"\",\n        \"description\": \"\"\n      }\n    },\n    {\n      \"column\": \"Preparation_Level\",\n      \"properties\": {\n        \"dtype\": \"string\",\n        \"num_unique_values\": 3,\n        \"samples\": [\n          \"Advanced\",\n          \"Intermediate\",\n          \"Beginner\"\n        ],\n        \"semantic_type\": \"\",\n        \"description\": \"\"\n      }\n    },\n    {\n      \"column\": \"Learning_Style\",\n      \"properties\": {\n        \"dtype\": \"string\",\n        \"num_unique_values\": 3,\n        \"samples\": [\n          \"Visual\",\n          \"Auditory\",\n          \"Kinesthetic\"\n        ],\n        \"semantic_type\": \"\",\n        \"description\": \"\"\n      }\n    }\n  ]\n}"
            }
          },
          "metadata": {},
          "execution_count": 26
        }
      ]
    },
    {
      "cell_type": "code",
      "source": [
        "aspirant_profile = {\n",
        "    \"Preferred_Subjects\": \"Mathematics, English\",\n",
        "    \"Target_College\": \"Delhi University\",\n",
        "    \"Preparation_Level\": \"Advanced\",\n",
        "    \"Learning_Style\": \"Visual\"\n",
        "}"
      ],
      "metadata": {
        "id": "GSlSPlrTcNTH"
      },
      "execution_count": null,
      "outputs": []
    },
    {
      "cell_type": "code",
      "source": [
        "def combine_features(row):\n",
        "    return f\"{row['Subjects']} {row['College']} {row['Preparation_Level']} {row['Learning_Style']}\""
      ],
      "metadata": {
        "id": "eUrjpE2fcZH7"
      },
      "execution_count": null,
      "outputs": []
    },
    {
      "cell_type": "code",
      "source": [
        "mentors_df[\"combined_features\"] = mentors_df.apply(combine_features, axis=1)\n"
      ],
      "metadata": {
        "id": "sY-YPsaldgPZ"
      },
      "execution_count": null,
      "outputs": []
    },
    {
      "cell_type": "code",
      "source": [
        "mentors_df[\"combined_features\"]"
      ],
      "metadata": {
        "colab": {
          "base_uri": "https://localhost:8080/",
          "height": 241
        },
        "id": "5_JuX7ZGdlaS",
        "outputId": "ae029e29-4561-4aa0-e6c6-e06718a4deae"
      },
      "execution_count": null,
      "outputs": [
        {
          "output_type": "execute_result",
          "data": {
            "text/plain": [
              "0    Mathematics, English Delhi University Advanced...\n",
              "1    History, Political Science IIT Delhi Intermedi...\n",
              "2           Mathematics, Logic DU Advanced Kinesthetic\n",
              "3     English, Reasoning St. Stephen's Beginner Visual\n",
              "4    English, Mathematics Delhi University Advanced...\n",
              "Name: combined_features, dtype: object"
            ],
            "text/html": [
              "<div>\n",
              "<style scoped>\n",
              "    .dataframe tbody tr th:only-of-type {\n",
              "        vertical-align: middle;\n",
              "    }\n",
              "\n",
              "    .dataframe tbody tr th {\n",
              "        vertical-align: top;\n",
              "    }\n",
              "\n",
              "    .dataframe thead th {\n",
              "        text-align: right;\n",
              "    }\n",
              "</style>\n",
              "<table border=\"1\" class=\"dataframe\">\n",
              "  <thead>\n",
              "    <tr style=\"text-align: right;\">\n",
              "      <th></th>\n",
              "      <th>combined_features</th>\n",
              "    </tr>\n",
              "  </thead>\n",
              "  <tbody>\n",
              "    <tr>\n",
              "      <th>0</th>\n",
              "      <td>Mathematics, English Delhi University Advanced...</td>\n",
              "    </tr>\n",
              "    <tr>\n",
              "      <th>1</th>\n",
              "      <td>History, Political Science IIT Delhi Intermedi...</td>\n",
              "    </tr>\n",
              "    <tr>\n",
              "      <th>2</th>\n",
              "      <td>Mathematics, Logic DU Advanced Kinesthetic</td>\n",
              "    </tr>\n",
              "    <tr>\n",
              "      <th>3</th>\n",
              "      <td>English, Reasoning St. Stephen's Beginner Visual</td>\n",
              "    </tr>\n",
              "    <tr>\n",
              "      <th>4</th>\n",
              "      <td>English, Mathematics Delhi University Advanced...</td>\n",
              "    </tr>\n",
              "  </tbody>\n",
              "</table>\n",
              "</div><br><label><b>dtype:</b> object</label>"
            ]
          },
          "metadata": {},
          "execution_count": 32
        }
      ]
    },
    {
      "cell_type": "code",
      "source": [
        "aspirant_features = (f\"{aspirant_profile['Preferred_Subjects']} \"\n",
        "                     f\"{aspirant_profile['Target_College']} \"\n",
        "                     f\"{aspirant_profile['Preparation_Level']} \"\n",
        "                     f\"{aspirant_profile['Learning_Style']}\")"
      ],
      "metadata": {
        "id": "SlYE66RvdrA4"
      },
      "execution_count": null,
      "outputs": []
    },
    {
      "cell_type": "code",
      "source": [
        "aspirant_features"
      ],
      "metadata": {
        "colab": {
          "base_uri": "https://localhost:8080/",
          "height": 35
        },
        "id": "YqRT8BnUdw-r",
        "outputId": "0bea09cf-75ca-461d-e10a-5dfa0486c87a"
      },
      "execution_count": null,
      "outputs": [
        {
          "output_type": "execute_result",
          "data": {
            "text/plain": [
              "'Mathematics, English Delhi University Advanced Visual'"
            ],
            "application/vnd.google.colaboratory.intrinsic+json": {
              "type": "string"
            }
          },
          "metadata": {},
          "execution_count": 34
        }
      ]
    },
    {
      "cell_type": "code",
      "source": [
        "corpus = mentors_df[\"combined_features\"].tolist() + [aspirant_features]"
      ],
      "metadata": {
        "id": "VX7CdZQud0Jn"
      },
      "execution_count": null,
      "outputs": []
    },
    {
      "cell_type": "code",
      "source": [
        "corpus"
      ],
      "metadata": {
        "colab": {
          "base_uri": "https://localhost:8080/"
        },
        "id": "U7MlHwoMgXpc",
        "outputId": "b20e3103-7ed1-434e-c39f-7d606a4508a0"
      },
      "execution_count": null,
      "outputs": [
        {
          "output_type": "execute_result",
          "data": {
            "text/plain": [
              "['Mathematics, English Delhi University Advanced Visual',\n",
              " 'History, Political Science IIT Delhi Intermediate Auditory',\n",
              " 'Mathematics, Logic DU Advanced Kinesthetic',\n",
              " \"English, Reasoning St. Stephen's Beginner Visual\",\n",
              " 'English, Mathematics Delhi University Advanced Auditory',\n",
              " 'Mathematics, English Delhi University Advanced Visual']"
            ]
          },
          "metadata": {},
          "execution_count": 36
        }
      ]
    },
    {
      "cell_type": "code",
      "source": [
        "tokenized_corpus = [doc.lower().replace(\",\", \"\").split() for doc in corpus]\n"
      ],
      "metadata": {
        "id": "LuFL19gygovT"
      },
      "execution_count": null,
      "outputs": []
    },
    {
      "cell_type": "code",
      "source": [
        "all_tokens = set(token for doc in tokenized_corpus for token in doc)"
      ],
      "metadata": {
        "id": "Df9tbhD7hBIp"
      },
      "execution_count": null,
      "outputs": []
    },
    {
      "cell_type": "code",
      "source": [
        "all_tokens = sorted(all_tokens)\n"
      ],
      "metadata": {
        "id": "V2HsoqyLhRvy"
      },
      "execution_count": null,
      "outputs": []
    },
    {
      "cell_type": "code",
      "source": [
        "def vectorize(tokens, vocabulary):\n",
        "    vector = np.zeros(len(vocabulary))\n",
        "    for token in tokens:\n",
        "        if token in vocabulary:\n",
        "            index = vocabulary.index(token)\n",
        "            vector[index] = 1\n",
        "    return vector\n"
      ],
      "metadata": {
        "id": "NmN97Zm2hVP7"
      },
      "execution_count": null,
      "outputs": []
    },
    {
      "cell_type": "code",
      "source": [
        "vocabulary = all_tokens"
      ],
      "metadata": {
        "id": "KKlXzEXlhaFz"
      },
      "execution_count": null,
      "outputs": []
    },
    {
      "cell_type": "code",
      "source": [
        "vectorized_docs = np.array([vectorize(doc, vocabulary) for doc in tokenized_corpus])\n"
      ],
      "metadata": {
        "id": "nwdFONivhpHr"
      },
      "execution_count": null,
      "outputs": []
    },
    {
      "cell_type": "code",
      "source": [
        "vectorized_docs"
      ],
      "metadata": {
        "colab": {
          "base_uri": "https://localhost:8080/"
        },
        "id": "errKD_Ufhr9z",
        "outputId": "cf49e365-bad9-4a97-d03b-cd2ac295272b"
      },
      "execution_count": null,
      "outputs": [
        {
          "output_type": "execute_result",
          "data": {
            "text/plain": [
              "array([[1., 0., 0., 1., 0., 1., 0., 0., 0., 0., 0., 1., 0., 0., 0., 0.,\n",
              "        0., 1., 1.],\n",
              "       [0., 1., 0., 1., 0., 0., 1., 1., 1., 0., 0., 0., 1., 0., 1., 0.,\n",
              "        0., 0., 0.],\n",
              "       [1., 0., 0., 0., 1., 0., 0., 0., 0., 1., 1., 1., 0., 0., 0., 0.,\n",
              "        0., 0., 0.],\n",
              "       [0., 0., 1., 0., 0., 1., 0., 0., 0., 0., 0., 0., 0., 1., 0., 1.,\n",
              "        1., 0., 1.],\n",
              "       [1., 1., 0., 1., 0., 1., 0., 0., 0., 0., 0., 1., 0., 0., 0., 0.,\n",
              "        0., 1., 0.],\n",
              "       [1., 0., 0., 1., 0., 1., 0., 0., 0., 0., 0., 1., 0., 0., 0., 0.,\n",
              "        0., 1., 1.]])"
            ]
          },
          "metadata": {},
          "execution_count": 43
        }
      ]
    },
    {
      "cell_type": "code",
      "source": [
        "mentor_vectors = vectorized_docs[:-1]\n",
        "aspirant_vector = vectorized_docs[-1].reshape(1, -1)"
      ],
      "metadata": {
        "id": "ofCmLVxqhu7P"
      },
      "execution_count": null,
      "outputs": []
    },
    {
      "cell_type": "code",
      "source": [
        "similarities = cosine_similarity(mentor_vectors, aspirant_vector).flatten()\n",
        "\n",
        "# Attach similarity scores to the mentor dataframe\n",
        "mentors_df[\"similarity_score\"] = similarities"
      ],
      "metadata": {
        "id": "uSi-ObrhhzPb"
      },
      "execution_count": null,
      "outputs": []
    },
    {
      "cell_type": "code",
      "source": [
        "top_mentors = mentors_df.sort_values(\"similarity_score\", ascending=False).head(3)\n",
        "\n",
        "print(\"Top Mentor Recommendations:\")\n",
        "print(top_mentors[[\"MentorID\", \"combined_features\", \"similarity_score\"]])"
      ],
      "metadata": {
        "colab": {
          "base_uri": "https://localhost:8080/"
        },
        "id": "s4bUVgVgiByZ",
        "outputId": "86d92433-ada9-444b-9744-b15b2e820a77"
      },
      "execution_count": null,
      "outputs": [
        {
          "output_type": "stream",
          "name": "stdout",
          "text": [
            "Top Mentor Recommendations:\n",
            "  MentorID                                  combined_features  \\\n",
            "0       M1  Mathematics, English Delhi University Advanced...   \n",
            "4       M5  English, Mathematics Delhi University Advanced...   \n",
            "2       M3         Mathematics, Logic DU Advanced Kinesthetic   \n",
            "\n",
            "   similarity_score  \n",
            "0          1.000000  \n",
            "4          0.833333  \n",
            "2          0.365148  \n"
          ]
        }
      ]
    },
    {
      "cell_type": "markdown",
      "source": [
        ". **Feedback Loop:**  \n",
        "   Collect explicit feedback (e.g., ratings, comments) or implicit signals (e.g., mentor profile clicks, session attendance)\n",
        "   from aspirants. This feedback can be used to adjust the similarity scoring function. For example, if certain subjects or features\n",
        "   are consistently associated with higher engagement, their weights can be increased in the feature representation.\n"
      ],
      "metadata": {
        "id": "MzIg_-BOjemf"
      }
    },
    {
      "cell_type": "markdown",
      "source": [
        "**Machine Learning Models:**  \n",
        "   Beyond simple similarity measures, one could train a model (e.g., a regression model or a ranking model) that predicts\n",
        "   the probability of a successful mentorship pairing. As more feedback is collected, the model can be retrained to improve predictions.\n"
      ],
      "metadata": {
        "id": "CoaInFwujwBp"
      }
    },
    {
      "cell_type": "markdown",
      "source": [
        "**AI-Augmented Retrieval:**  \n",
        "   By integrating retrieval augmentation techniques (for example using Llama Index and RAG),\n",
        "   the system can automatically incorporate up-to-date mentor profiles, external reviews, and other real-time\n",
        "   data to refine recommendations dynamically.\n"
      ],
      "metadata": {
        "id": "Wns8T7e7jwqA"
      }
    },
    {
      "cell_type": "markdown",
      "source": [],
      "metadata": {
        "id": "Bo8aqB5ykJiE"
      }
    },
    {
      "cell_type": "code",
      "source": [],
      "metadata": {
        "id": "bzpArQlljsl1"
      },
      "execution_count": null,
      "outputs": []
    }
  ]
}